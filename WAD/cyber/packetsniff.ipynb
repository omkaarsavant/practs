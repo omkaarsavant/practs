{
  "nbformat": 4,
  "nbformat_minor": 0,
  "metadata": {
    "colab": {
      "provenance": []
    },
    "kernelspec": {
      "name": "python3",
      "display_name": "Python 3"
    },
    "language_info": {
      "name": "python"
    }
  },
  "cells": [
    {
      "cell_type": "code",
      "execution_count": 1,
      "metadata": {
        "colab": {
          "base_uri": "https://localhost:8080/"
        },
        "id": "dgtcS7UtVuH3",
        "outputId": "6904403e-f9f2-4e8d-eeb3-4e9c959dea1c"
      },
      "outputs": [
        {
          "output_type": "stream",
          "name": "stdout",
          "text": [
            "Collecting scapy\n",
            "  Downloading scapy-2.5.0.tar.gz (1.3 MB)\n",
            "\u001b[2K     \u001b[90m━━━━━━━━━━━━━━━━━━━━━━━━━━━━━━━━━━━━━━━━\u001b[0m \u001b[32m1.3/1.3 MB\u001b[0m \u001b[31m6.4 MB/s\u001b[0m eta \u001b[36m0:00:00\u001b[0m\n",
            "\u001b[?25h  Preparing metadata (setup.py) ... \u001b[?25l\u001b[?25hdone\n",
            "Building wheels for collected packages: scapy\n",
            "  Building wheel for scapy (setup.py) ... \u001b[?25l\u001b[?25hdone\n",
            "  Created wheel for scapy: filename=scapy-2.5.0-py2.py3-none-any.whl size=1444327 sha256=e1580b0d6334d99b04057fd6325a38f22d5ff1e8d799733b46670025c8718891\n",
            "  Stored in directory: /root/.cache/pip/wheels/82/b7/03/8344d8cf6695624746311bc0d389e9d05535ca83c35f90241d\n",
            "Successfully built scapy\n",
            "Installing collected packages: scapy\n",
            "Successfully installed scapy-2.5.0\n"
          ]
        }
      ],
      "source": [
        "pip install scapy"
      ]
    },
    {
      "cell_type": "code",
      "source": [
        "from scapy.all import *"
      ],
      "metadata": {
        "id": "Y8SJxhLjVvct"
      },
      "execution_count": 16,
      "outputs": []
    },
    {
      "cell_type": "code",
      "source": [
        "capture = sniff()"
      ],
      "metadata": {
        "id": "KlK4a3h5WqgO"
      },
      "execution_count": 17,
      "outputs": []
    },
    {
      "cell_type": "code",
      "source": [
        "capture.summary()"
      ],
      "metadata": {
        "colab": {
          "base_uri": "https://localhost:8080/"
        },
        "id": "qtwzb00YXSzw",
        "outputId": "abdde7a3-1868-4c24-8b4c-0356e18479bd"
      },
      "execution_count": 18,
      "outputs": [
        {
          "output_type": "stream",
          "name": "stdout",
          "text": [
            "Ether / IP / TCP 172.28.0.1:50000 > 172.28.0.12:8080 PA / Raw\n",
            "Ether / IP / TCP 172.28.0.12:8080 > 172.28.0.1:50000 PA / Raw\n",
            "Ether / IP / TCP 172.28.0.1:50000 > 172.28.0.12:8080 A\n",
            "Ether / IP / TCP 172.28.0.12:8080 > 172.28.0.1:54208 PA / Raw\n",
            "Ether / IP / TCP 172.28.0.1:54208 > 172.28.0.12:8080 A\n",
            "Ether / IP / TCP 172.28.0.1:54208 > 172.28.0.12:8080 PA / Raw\n",
            "Ether / IP / TCP 172.28.0.12:8080 > 172.28.0.1:54208 A\n",
            "Ether / IP / TCP 172.28.0.1:54208 > 172.28.0.12:8080 PA / Raw\n",
            "Ether / IP / TCP 172.28.0.12:8080 > 172.28.0.1:54208 A\n",
            "Ether / IP / TCP 172.28.0.12:8080 > 172.28.0.1:54208 PA / Raw\n",
            "Ether / IP / TCP 172.28.0.1:54208 > 172.28.0.12:8080 A\n",
            "Ether / IP / TCP 172.28.0.12:6000 > 172.28.0.1:44380 A\n",
            "Ether / IP / TCP 172.28.0.1:44380 > 172.28.0.12:6000 A\n",
            "Ether / IP / TCP 172.28.0.1:54208 > 172.28.0.12:8080 PA / Raw\n",
            "Ether / IP / TCP 172.28.0.12:8080 > 172.28.0.1:54208 A\n",
            "Ether / IP / TCP 172.28.0.1:50000 > 172.28.0.12:8080 PA / Raw\n",
            "Ether / IP / TCP 172.28.0.12:8080 > 172.28.0.1:50000 PA / Raw\n",
            "Ether / IP / TCP 172.28.0.1:50000 > 172.28.0.12:8080 A\n",
            "Ether / IP / TCP 172.28.0.1:50000 > 172.28.0.12:8080 PA / Raw\n",
            "Ether / IP / TCP 172.28.0.1:50000 > 172.28.0.12:8080 PA / Raw\n",
            "Ether / IP / TCP 172.28.0.12:8080 > 172.28.0.1:50000 A\n",
            "Ether / IP / TCP 172.28.0.12:8080 > 172.28.0.1:50000 PA / Raw\n",
            "Ether / IP / TCP 172.28.0.1:50000 > 172.28.0.12:8080 A\n",
            "Ether / IP / TCP 172.28.0.1:50000 > 172.28.0.12:8080 PA / Raw\n",
            "Ether / IP / TCP 172.28.0.12:8080 > 172.28.0.1:50000 PA / Raw\n",
            "Ether / IP / TCP 172.28.0.1:50000 > 172.28.0.12:8080 A\n",
            "Ether / IP / TCP 172.28.0.1:50000 > 172.28.0.12:8080 PA / Raw\n",
            "Ether / IP / TCP 172.28.0.1:50000 > 172.28.0.12:8080 PA / Raw\n",
            "Ether / IP / TCP 172.28.0.12:8080 > 172.28.0.1:50000 A\n",
            "Ether / IP / TCP 172.28.0.12:8080 > 172.28.0.1:50000 PA / Raw\n",
            "Ether / IP / TCP 172.28.0.1:50000 > 172.28.0.12:8080 A\n",
            "Ether / IP / TCP 172.28.0.1:50000 > 172.28.0.12:8080 PA / Raw\n",
            "Ether / IP / TCP 172.28.0.12:8080 > 172.28.0.1:50000 A\n",
            "Ether / IP / TCP 172.28.0.1:50016 > 172.28.0.12:8080 S\n",
            "Ether / IP / TCP 172.28.0.12:8080 > 172.28.0.1:50016 SA\n",
            "Ether / IP / TCP 172.28.0.1:50016 > 172.28.0.12:8080 A\n",
            "Ether / IP / TCP 172.28.0.1:50016 > 172.28.0.12:8080 PA / Raw\n",
            "Ether / IP / TCP 172.28.0.12:8080 > 172.28.0.1:50016 A\n",
            "Ether / IP / TCP 172.28.0.1:50016 > 172.28.0.12:8080 PA / Raw\n",
            "Ether / IP / TCP 172.28.0.12:8080 > 172.28.0.1:50016 A\n",
            "Ether / IP / TCP 172.28.0.12:8080 > 172.28.0.1:50016 PA / Raw\n",
            "Ether / IP / TCP 172.28.0.1:50016 > 172.28.0.12:8080 A\n",
            "Ether / IP / TCP 172.28.0.12:8080 > 172.28.0.1:50000 PA / Raw\n",
            "Ether / IP / TCP 172.28.0.1:50000 > 172.28.0.12:8080 A\n",
            "Ether / IP / TCP 172.28.0.1:50000 > 172.28.0.12:8080 PA / Raw\n",
            "Ether / IP / TCP 172.28.0.12:8080 > 172.28.0.1:50000 A\n",
            "Ether / IP / TCP 172.28.0.12:8080 > 172.28.0.1:50000 PA / Raw\n",
            "Ether / IP / TCP 172.28.0.1:50000 > 172.28.0.12:8080 A\n",
            "Ether / IP / TCP 172.28.0.1:50000 > 172.28.0.12:8080 PA / Raw\n",
            "Ether / IP / TCP 172.28.0.12:8080 > 172.28.0.1:50000 A\n",
            "Ether / IP / TCP 172.28.0.1:50016 > 172.28.0.12:8080 PA / Raw\n",
            "Ether / IP / TCP 172.28.0.1:50016 > 172.28.0.12:8080 PA / Raw\n",
            "Ether / IP / TCP 172.28.0.12:8080 > 172.28.0.1:50016 A\n",
            "Ether / IP / TCP 172.28.0.12:8080 > 172.28.0.1:50000 PA / Raw\n",
            "Ether / IP / TCP 172.28.0.1:50000 > 172.28.0.12:8080 A\n",
            "Ether / IP / TCP 172.28.0.12:8080 > 172.28.0.1:50016 PA / Raw\n",
            "Ether / IP / TCP 172.28.0.1:50016 > 172.28.0.12:8080 A\n",
            "Ether / IP / TCP 172.28.0.1:50000 > 172.28.0.12:8080 PA / Raw\n",
            "Ether / IP / TCP 172.28.0.12:8080 > 172.28.0.1:50000 A\n",
            "Ether / IP / TCP 172.28.0.1:50016 > 172.28.0.12:8080 PA / Raw\n",
            "Ether / IP / TCP 172.28.0.12:8080 > 172.28.0.1:50016 PA / Raw\n",
            "Ether / IP / TCP 172.28.0.1:50016 > 172.28.0.12:8080 A\n",
            "Ether / IP / TCP 172.28.0.12:8080 > 172.28.0.1:50016 FA\n",
            "Ether / IP / TCP 172.28.0.1:50016 > 172.28.0.12:8080 FA\n",
            "Ether / IP / TCP 172.28.0.12:8080 > 172.28.0.1:50016 A\n",
            "Ether / IP / TCP 172.28.0.1:47336 > 172.28.0.12:8080 S\n",
            "Ether / IP / TCP 172.28.0.12:8080 > 172.28.0.1:47336 SA\n",
            "Ether / IP / TCP 172.28.0.1:47336 > 172.28.0.12:8080 A\n",
            "Ether / IP / TCP 172.28.0.1:47336 > 172.28.0.12:8080 PA / Raw\n",
            "Ether / IP / TCP 172.28.0.12:8080 > 172.28.0.1:47336 A\n",
            "Ether / IP / TCP 172.28.0.1:47336 > 172.28.0.12:8080 PA / Raw\n",
            "Ether / IP / TCP 172.28.0.12:8080 > 172.28.0.1:47336 A\n",
            "Ether / IP / TCP 172.28.0.12:8080 > 172.28.0.1:47336 PA / Raw\n",
            "Ether / IP / TCP 172.28.0.1:47336 > 172.28.0.12:8080 A\n",
            "Ether / IP / TCP 172.28.0.12:8080 > 172.28.0.1:51958 PA / Raw\n",
            "Ether / IP / TCP 172.28.0.1:51958 > 172.28.0.12:8080 A\n",
            "Ether / IP / TCP 172.28.0.1:51958 > 172.28.0.12:8080 PA / Raw\n",
            "Ether / IP / TCP 172.28.0.12:8080 > 172.28.0.1:51958 A\n",
            "Ether / IP / TCP 172.28.0.1:47336 > 172.28.0.12:8080 PA / Raw\n",
            "Ether / IP / TCP 172.28.0.1:47336 > 172.28.0.12:8080 PA / Raw\n",
            "Ether / IP / TCP 172.28.0.12:8080 > 172.28.0.1:47336 A\n",
            "Ether / IP / TCP 172.28.0.12:8080 > 172.28.0.1:47336 PA / Raw\n",
            "Ether / IP / TCP 172.28.0.1:47336 > 172.28.0.12:8080 A\n",
            "Ether / IP / TCP 172.28.0.12:8080 > 172.28.0.1:51958 PA / Raw\n",
            "Ether / IP / TCP 172.28.0.1:51958 > 172.28.0.12:8080 A\n",
            "Ether / IP / TCP 172.28.0.1:51958 > 172.28.0.12:8080 PA / Raw\n",
            "Ether / IP / TCP 172.28.0.12:8080 > 172.28.0.1:51958 A\n",
            "Ether / IP / TCP 172.28.0.1:47336 > 172.28.0.12:8080 PA / Raw\n",
            "Ether / IP / TCP 172.28.0.1:47336 > 172.28.0.12:8080 PA / Raw\n",
            "Ether / IP / TCP 172.28.0.12:8080 > 172.28.0.1:47336 A\n",
            "Ether / IP / TCP 172.28.0.12:8080 > 172.28.0.1:47336 PA / Raw\n",
            "Ether / IP / TCP 172.28.0.1:47336 > 172.28.0.12:8080 A\n",
            "Ether / IP / TCP 172.28.0.12:8080 > 172.28.0.1:51958 PA / Raw\n",
            "Ether / IP / TCP 172.28.0.1:51958 > 172.28.0.12:8080 A\n",
            "Ether / IP / TCP 172.28.0.1:51958 > 172.28.0.12:8080 PA / Raw\n",
            "Ether / IP / TCP 172.28.0.12:8080 > 172.28.0.1:51958 A\n",
            "Ether / IP / TCP 172.28.0.1:47336 > 172.28.0.12:8080 PA / Raw\n",
            "Ether / IP / TCP 172.28.0.1:47336 > 172.28.0.12:8080 PA / Raw\n",
            "Ether / IP / TCP 172.28.0.12:8080 > 172.28.0.1:47336 A\n",
            "Ether / IP / TCP 172.28.0.12:8080 > 172.28.0.1:47336 PA / Raw\n",
            "Ether / IP / TCP 172.28.0.1:47336 > 172.28.0.12:8080 A\n",
            "Ether / IP / TCP 172.28.0.12:8080 > 172.28.0.1:51958 PA / Raw\n",
            "Ether / IP / TCP 172.28.0.1:51958 > 172.28.0.12:8080 A\n",
            "Ether / IP / TCP 172.28.0.1:51958 > 172.28.0.12:8080 PA / Raw\n",
            "Ether / IP / TCP 172.28.0.12:8080 > 172.28.0.1:51958 A\n",
            "Ether / IP / TCP 172.28.0.12:8080 > 172.28.0.1:51958 PA / Raw\n",
            "Ether / IP / TCP 172.28.0.1:51958 > 172.28.0.12:8080 A\n",
            "Ether / IP / TCP 172.28.0.1:51958 > 172.28.0.12:8080 PA / Raw\n",
            "Ether / IP / TCP 172.28.0.1:51958 > 172.28.0.12:8080 PA / Raw\n",
            "Ether / IP / TCP 172.28.0.12:8080 > 172.28.0.1:51958 A\n",
            "Ether / IP / TCP 172.28.0.12:8080 > 172.28.0.1:51958 PA / Raw\n",
            "Ether / IP / TCP 172.28.0.1:51958 > 172.28.0.12:8080 A\n",
            "Ether / IP / TCP 172.28.0.1:51958 > 172.28.0.12:8080 PA / Raw\n",
            "Ether / IP / TCP 172.28.0.12:8080 > 172.28.0.1:51958 PA / Raw\n",
            "Ether / IP / TCP 172.28.0.1:51958 > 172.28.0.12:8080 A\n",
            "Ether / IP / TCP 172.28.0.1:51958 > 172.28.0.12:8080 PA / Raw\n",
            "Ether / IP / TCP 172.28.0.12:8080 > 172.28.0.1:51958 A\n",
            "Ether / IP / TCP 172.28.0.1:47336 > 172.28.0.12:8080 PA / Raw\n",
            "Ether / IP / TCP 172.28.0.1:47336 > 172.28.0.12:8080 PA / Raw\n",
            "Ether / IP / TCP 172.28.0.12:8080 > 172.28.0.1:47336 A\n",
            "Ether / IP / TCP 172.28.0.12:8080 > 172.28.0.1:47336 PA / Raw\n",
            "Ether / IP / TCP 172.28.0.1:47336 > 172.28.0.12:8080 A\n",
            "Ether / IP / TCP 172.28.0.1:47336 > 172.28.0.12:8080 PA / Raw\n",
            "Ether / IP / TCP 172.28.0.1:47336 > 172.28.0.12:8080 PA / Raw\n",
            "Ether / IP / TCP 172.28.0.12:8080 > 172.28.0.1:47336 A\n",
            "Ether / IP / TCP 172.28.0.12:8080 > 172.28.0.1:47336 PA / Raw\n",
            "Ether / IP / TCP 172.28.0.12:8080 > 172.28.0.1:51958 PA / Raw\n",
            "Ether / IP / TCP 172.28.0.1:51958 > 172.28.0.12:8080 A\n",
            "Ether / IP / TCP 172.28.0.1:47336 > 172.28.0.12:8080 A\n",
            "Ether / IP / TCP 172.28.0.1:47336 > 172.28.0.12:8080 PA / Raw\n",
            "Ether / IP / TCP 172.28.0.12:8080 > 172.28.0.1:47336 A\n",
            "Ether / IP / TCP 172.28.0.1:51958 > 172.28.0.12:8080 PA / Raw\n",
            "Ether / IP / TCP 172.28.0.12:8080 > 172.28.0.1:51958 A\n",
            "Ether / IP / TCP 172.28.0.1:51958 > 172.28.0.12:8080 PA / Raw\n",
            "Ether / IP / TCP 172.28.0.12:8080 > 172.28.0.1:51958 A\n",
            "Ether / IP / TCP 172.28.0.12:8080 > 172.28.0.1:51958 PA / Raw\n",
            "Ether / IP / TCP 172.28.0.1:51958 > 172.28.0.12:8080 A\n",
            "Ether / IP / TCP 172.28.0.12:8080 > 172.28.0.1:47336 PA / Raw\n",
            "Ether / IP / TCP 172.28.0.1:47336 > 172.28.0.12:8080 A\n",
            "Ether / IP / TCP 172.28.0.1:51958 > 172.28.0.12:8080 PA / Raw\n",
            "Ether / IP / TCP 172.28.0.12:8080 > 172.28.0.1:51958 A\n",
            "Ether / IP / TCP 172.28.0.1:47336 > 172.28.0.12:8080 PA / Raw\n",
            "Ether / IP / TCP 172.28.0.12:8080 > 172.28.0.1:47336 A\n",
            "Ether / IP / TCP 172.28.0.1:47336 > 172.28.0.12:8080 PA / Raw\n",
            "Ether / IP / TCP 172.28.0.12:8080 > 172.28.0.1:47336 A\n",
            "Ether / IP / TCP 172.28.0.12:8080 > 172.28.0.1:47336 PA / Raw\n",
            "Ether / IP / TCP 172.28.0.1:47336 > 172.28.0.12:8080 A\n",
            "Ether / IP / TCP 172.28.0.12:8080 > 172.28.0.1:51958 PA / Raw\n",
            "Ether / IP / TCP 172.28.0.1:51958 > 172.28.0.12:8080 A\n",
            "Ether / IP / TCP 172.28.0.1:47336 > 172.28.0.12:8080 PA / Raw\n",
            "Ether / IP / TCP 172.28.0.12:8080 > 172.28.0.1:47336 PA / Raw\n",
            "Ether / IP / TCP 172.28.0.1:47336 > 172.28.0.12:8080 A\n",
            "Ether / IP / TCP 172.28.0.1:47336 > 172.28.0.12:8080 PA / Raw\n"
          ]
        }
      ]
    },
    {
      "cell_type": "code",
      "source": [
        "sniff(filter=\"tcp\")"
      ],
      "metadata": {
        "colab": {
          "base_uri": "https://localhost:8080/"
        },
        "id": "KWupar__Xetg",
        "outputId": "34cebd6e-89ed-4e87-bfac-70dfd78ce514"
      },
      "execution_count": 19,
      "outputs": [
        {
          "output_type": "stream",
          "name": "stderr",
          "text": [
            "ERROR: Cannot set filter: libpcap is not available. Cannot compile filter !\n",
            "ERROR:scapy.runtime:Cannot set filter: libpcap is not available. Cannot compile filter !\n"
          ]
        },
        {
          "output_type": "execute_result",
          "data": {
            "text/plain": [
              "<Sniffed: TCP:84 UDP:0 ICMP:0 Other:0>"
            ]
          },
          "metadata": {},
          "execution_count": 19
        }
      ]
    },
    {
      "cell_type": "code",
      "source": [
        "wrpcap(\"pcap\", capture)"
      ],
      "metadata": {
        "id": "pW0_u0wAXnMi"
      },
      "execution_count": 21,
      "outputs": []
    },
    {
      "cell_type": "code",
      "source": [],
      "metadata": {
        "id": "ikioVbTXXxN2"
      },
      "execution_count": null,
      "outputs": []
    }
  ]
}